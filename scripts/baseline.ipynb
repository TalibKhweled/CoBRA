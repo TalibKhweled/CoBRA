{
 "cells": [
  {
   "cell_type": "code",
   "execution_count": 3,
   "metadata": {},
   "outputs": [],
   "source": [
    "import os\n",
    "from dotenv import load_dotenv\n",
    "from google import genai"
   ]
  },
  {
   "cell_type": "code",
   "execution_count": 4,
   "metadata": {},
   "outputs": [
    {
     "data": {
      "text/plain": [
       "True"
      ]
     },
     "execution_count": 4,
     "metadata": {},
     "output_type": "execute_result"
    }
   ],
   "source": [
    "# Load environment variables from .env file\n",
    "load_dotenv()"
   ]
  },
  {
   "cell_type": "code",
   "execution_count": null,
   "metadata": {},
   "outputs": [],
   "source": []
  },
  {
   "cell_type": "code",
   "execution_count": 10,
   "metadata": {},
   "outputs": [],
   "source": [
    "\n",
    "hotpot_example = {\n",
    "    \"answer\": \"yes\",\n",
    "    \"question\": \"Were Scott Derrickson and Ed Wood of the same nationality?\",\n",
    "    \"context\": \"\"\"Adam Collis\n",
    "Adam Collis is an American filmmaker and actor. He attended the Duke University from 1986 to 1990 and the University of California, Los Angeles from 2007 to 2010. He also studied cinema at the University of Southern California from 1991 to 1997. Collis first work was the assistant director for the Scott Derrickson's short \\\"Love in the Ruins\\\" (1995). In 1998, he played \"Crankshaft\" in Eric Koyanagi's \"Hundred Percent\".\n",
    "\n",
    "Ed Wood (film)\n",
    "Ed Wood is a 1994 American biographical period comedy-drama film directed and produced by Tim Burton, and starring Johnny Depp as cult filmmaker Ed Wood. The film concerns the period in Wood's life when he made his best-known films as well as his relationship with actor Bela Lugosi, played by Martin Landau. Sarah Jessica Parker, Patricia Arquette, Jeffrey Jones, Lisa Marie, and Bill Murray are among the supporting cast.\n",
    "\n",
    "Tyler Bates\n",
    "Tyler Bates (born June 5, 1965) is an American musician, music producer, and composer for films, television, and video games. Much of his work is in the action and horror film genres, with films like \"Dawn of the Dead, 300, Sucker Punch,\" and \"John Wick.\" He has collaborated with directors like Zack Snyder, Rob Zombie, Neil Marshall, William Friedkin, Scott Derrickson, and James Gunn. With Gunn, he has scored every one of the director's films; including \"Guardians of the Galaxy\", which became one of the highest grossing domestic movies of 2014, and its 2017 sequel. In addition, he is also the lead guitarist of the American rock band Marilyn Manson, and produced its albums \"The Pale Emperor\" and \"Heaven Upside Down\".\n",
    "\n",
    "Doctor Strange (2016 film)\n",
    "Doctor Strange is a 2016 American superhero film based on the Marvel Comics character of the same name, produced by Marvel Studios and distributed by Walt Disney Studios Motion Pictures. It is the fourteenth film of the Marvel Cinematic Universe (MCU). The film was directed by Scott Derrickson, who wrote it with Jon Spaihts and C. Robert Cargill, and stars Benedict Cumberbatch as Stephen Strange, along with Chiwetel Ejiofor, Rachel McAdams, Benedict Wong, Michael Stuhlbarg, Benjamin Bratt, Scott Adkins, Mads Mikkelsen, and Tilda Swinton. In \"Doctor Strange\", surgeon Strange learns the mystic arts after a career-ending car accident.\n",
    "\n",
    "Hellraiser: Inferno\n",
    "Hellraiser: Inferno (also known as Hellraiser V: Inferno) is a 2000 American horror film. It is the fifth installment in the \"Hellraiser\" series and the first \"Hellraiser\" film to go straight-to-DVD. It was directed by Scott Derrickson and released on October 3, 2000. The film concerns a corrupt detective who discovers Lemarchand's box at a crime scene. The film's reviews were mixed.\n",
    "\n",
    "Sinister (film)\n",
    "Sinister is a 2012 supernatural horror film directed by Scott Derrickson and written by Derrickson and C. Robert Cargill. It stars Ethan Hawke as fictional true-crime writer Ellison Oswalt who discovers a box of home movies in his attic that puts his family in danger.\n",
    "\n",
    "Deliver Us from Evil (2014 film)\n",
    "Deliver Us from Evil is a 2014 American supernatural horror film directed by Scott Derrickson and produced by Jerry Bruckheimer. The film is officially based on a 2001 non-fiction book entitled \"Beware the Night\" by Ralph Sarchie and Lisa Collier Cool, and its marketing campaign highlighted that it was \"inspired by actual accounts\". The film stars Eric Bana, Édgar Ramírez, Sean Harris, Olivia Munn, and Joel McHale in the main roles and was released on July 2, 2014.\n",
    "\n",
    "Woodson, Arkansas\n",
    "Woodson is a census-designated place (CDP) in Pulaski County, Arkansas, in the United States. Its population was 403 at the 2010 census. It is part of the Little Rock–North Little Rock–Conway Metropolitan Statistical Area. Woodson and its accompanying Woodson Lake and Wood Hollow are the namesake for Ed Wood Sr., a prominent plantation owner, trader, and businessman at the turn of the 20th century. Woodson is adjacent to the Wood Plantation, the largest of the plantations own by Ed Wood Sr.\n",
    "\n",
    "Conrad Brooks\n",
    "Conrad Brooks (born Conrad Biedrzycki on January 3, 1931 in Baltimore, Maryland) is an American actor. He moved to Hollywood, California in 1948 to pursue a career in acting. He got his start in movies appearing in Ed Wood films such as \"Plan 9 from Outer Space\", \"Glen or Glenda\", and \"Jail Bait.\" He took a break from acting during the 1960s and 1970s but due to the ongoing interest in the films of Ed Wood, he reemerged in the 1980s and has become a prolific actor. He also has since gone on to write, produce and direct several films.\n",
    "\n",
    "The Exorcism of Emily Rose\n",
    "The Exorcism of Emily Rose is a 2005 American legal drama horror film directed by Scott Derrickson and starring Laura Linney and Tom Wilkinson. The film is loosely based on the story of Anneliese Michel and follows a self-proclaimed agnostic who acts as defense counsel (Linney) representing a parish priest (Wilkinson), accused by the state of negligent homicide after he performed an exorcism.\"\"\"\n",
    "}\n"
   ]
  },
  {
   "cell_type": "code",
   "execution_count": 12,
   "metadata": {},
   "outputs": [
    {
     "data": {
      "text/plain": [
       "'Adam Collis\\nAdam Collis is an American filmmaker and actor. He attended the Duke University from 1986 to 1990 and the University of California, Los Angeles from 2007 to 2010. He also studied cinema at the University of Southern California from 1991 to 1997. Collis first work was the assistant director for the Scott Derrickson\\'s short \"Love in the Ruins\" (1995). In 1998, he played \"Crankshaft\" in Eric Koyanagi\\'s \"Hundred Percent\".\\n\\nEd Wood (film)\\nEd Wood is a 1994 American biographical period comedy-drama film directed and produced by Tim Burton, and starring Johnny Depp as cult filmmaker Ed Wood. The film concerns the period in Wood\\'s life when he made his best-known films as well as his relationship with actor Bela Lugosi, played by Martin Landau. Sarah Jessica Parker, Patricia Arquette, Jeffrey Jones, Lisa Marie, and Bill Murray are among the supporting cast.\\n\\nTyler Bates\\nTyler Bates (born June 5, 1965) is an American musician, music producer, and composer for films, television, and video games. Much of his work is in the action and horror film genres, with films like \"Dawn of the Dead, 300, Sucker Punch,\" and \"John Wick.\" He has collaborated with directors like Zack Snyder, Rob Zombie, Neil Marshall, William Friedkin, Scott Derrickson, and James Gunn. With Gunn, he has scored every one of the director\\'s films; including \"Guardians of the Galaxy\", which became one of the highest grossing domestic movies of 2014, and its 2017 sequel. In addition, he is also the lead guitarist of the American rock band Marilyn Manson, and produced its albums \"The Pale Emperor\" and \"Heaven Upside Down\".\\n\\nDoctor Strange (2016 film)\\nDoctor Strange is a 2016 American superhero film based on the Marvel Comics character of the same name, produced by Marvel Studios and distributed by Walt Disney Studios Motion Pictures. It is the fourteenth film of the Marvel Cinematic Universe (MCU). The film was directed by Scott Derrickson, who wrote it with Jon Spaihts and C. Robert Cargill, and stars Benedict Cumberbatch as Stephen Strange, along with Chiwetel Ejiofor, Rachel McAdams, Benedict Wong, Michael Stuhlbarg, Benjamin Bratt, Scott Adkins, Mads Mikkelsen, and Tilda Swinton. In \"Doctor Strange\", surgeon Strange learns the mystic arts after a career-ending car accident.\\n\\nHellraiser: Inferno\\nHellraiser: Inferno (also known as Hellraiser V: Inferno) is a 2000 American horror film. It is the fifth installment in the \"Hellraiser\" series and the first \"Hellraiser\" film to go straight-to-DVD. It was directed by Scott Derrickson and released on October 3, 2000. The film concerns a corrupt detective who discovers Lemarchand\\'s box at a crime scene. The film\\'s reviews were mixed.\\n\\nSinister (film)\\nSinister is a 2012 supernatural horror film directed by Scott Derrickson and written by Derrickson and C. Robert Cargill. It stars Ethan Hawke as fictional true-crime writer Ellison Oswalt who discovers a box of home movies in his attic that puts his family in danger.\\n\\nDeliver Us from Evil (2014 film)\\nDeliver Us from Evil is a 2014 American supernatural horror film directed by Scott Derrickson and produced by Jerry Bruckheimer. The film is officially based on a 2001 non-fiction book entitled \"Beware the Night\" by Ralph Sarchie and Lisa Collier Cool, and its marketing campaign highlighted that it was \"inspired by actual accounts\". The film stars Eric Bana, Édgar Ramírez, Sean Harris, Olivia Munn, and Joel McHale in the main roles and was released on July 2, 2014.\\n\\nWoodson, Arkansas\\nWoodson is a census-designated place (CDP) in Pulaski County, Arkansas, in the United States. Its population was 403 at the 2010 census. It is part of the Little Rock–North Little Rock–Conway Metropolitan Statistical Area. Woodson and its accompanying Woodson Lake and Wood Hollow are the namesake for Ed Wood Sr., a prominent plantation owner, trader, and businessman at the turn of the 20th century. Woodson is adjacent to the Wood Plantation, the largest of the plantations own by Ed Wood Sr.\\n\\nConrad Brooks\\nConrad Brooks (born Conrad Biedrzycki on January 3, 1931 in Baltimore, Maryland) is an American actor. He moved to Hollywood, California in 1948 to pursue a career in acting. He got his start in movies appearing in Ed Wood films such as \"Plan 9 from Outer Space\", \"Glen or Glenda\", and \"Jail Bait.\" He took a break from acting during the 1960s and 1970s but due to the ongoing interest in the films of Ed Wood, he reemerged in the 1980s and has become a prolific actor. He also has since gone on to write, produce and direct several films.\\n\\nThe Exorcism of Emily Rose\\nThe Exorcism of Emily Rose is a 2005 American legal drama horror film directed by Scott Derrickson and starring Laura Linney and Tom Wilkinson. The film is loosely based on the story of Anneliese Michel and follows a self-proclaimed agnostic who acts as defense counsel (Linney) representing a parish priest (Wilkinson), accused by the state of negligent homicide after he performed an exorcism.'"
      ]
     },
     "execution_count": 12,
     "metadata": {},
     "output_type": "execute_result"
    }
   ],
   "source": []
  },
  {
   "cell_type": "code",
   "execution_count": 8,
   "metadata": {},
   "outputs": [
    {
     "name": "stdout",
     "output_type": "stream",
     "text": [
      "Okay, let's break down how AI works, in a way that's understandable without getting too bogged down in technical jargon.  We'll cover the core concepts, different approaches, and the basic steps involved.\n",
      "\n",
      "**What is AI, at its Core?**\n",
      "\n",
      "At its most basic, AI (Artificial Intelligence) is about creating machines that can perform tasks that typically require human intelligence.  These tasks include:\n",
      "\n",
      "*   **Learning:**  Acquiring information and rules for using the information.\n",
      "*   **Reasoning:**  Using rules to reach conclusions.\n",
      "*   **Problem-solving:**  Finding solutions to complex issues.\n",
      "*   **Perception:**  Interpreting sensory data (like images, sounds, and text).\n",
      "*   **Understanding Natural Language:**  Processing and responding to human language.\n",
      "\n",
      "**Two Main Approaches to AI:**\n",
      "\n",
      "Historically, AI research has followed two main approaches:\n",
      "\n",
      "1.  **Symbolic AI (Rule-Based AI):**\n",
      "    *   **How it Works:**  This approach focuses on representing knowledge using symbols and rules.  Think of it like a set of \"if...then...\" statements.  For example:\n",
      "        *   `IF the sky is gray AND it is raining, THEN take an umbrella.`\n",
      "    *   **Strengths:**  Easy to understand and debug (because the rules are explicit).  Good for tasks with well-defined rules and logical structures (e.g., expert systems, some types of game-playing AI).\n",
      "    *   **Weaknesses:**  Difficult to scale to complex, real-world problems where rules are fuzzy or incomplete.  Struggles with tasks that require perception or common sense.  It's hard to manually encode all the knowledge needed for these tasks.\n",
      "\n",
      "2.  **Machine Learning (ML):**\n",
      "    *   **How it Works:**  Instead of explicitly programming rules, you give the machine a lot of data and let it *learn* patterns and relationships from that data. This is the dominant approach in AI today.\n",
      "    *   **Strengths:**  Can handle complex, real-world data.  Can adapt to new information.  Powers many of the AI applications you see today (image recognition, natural language processing, recommendation systems).\n",
      "    *   **Weaknesses:**  Requires large amounts of data.  Can be difficult to understand *why* a machine learning model makes a particular decision (the \"black box\" problem).  Susceptible to biases in the data.\n",
      "\n",
      "**Machine Learning in More Detail: The Core Process**\n",
      "\n",
      "Because Machine Learning is so important, let's break down the typical steps:\n",
      "\n",
      "1.  **Data Collection:**  Gathering a large dataset relevant to the task you want the AI to perform. This data needs to be high-quality and representative.\n",
      "    *   **Example:** If you want to train an AI to recognize cats in images, you'll need a massive collection of images, some containing cats and some not.\n",
      "2.  **Data Preparation (Preprocessing):**  Cleaning, transforming, and organizing the data to make it suitable for the machine learning algorithm.\n",
      "    *   **Example:** Resizing images to a standard size, labeling images as \"cat\" or \"not cat\", handling missing values, and scaling numerical data.\n",
      "3.  **Model Selection:**  Choosing the appropriate machine learning algorithm for the task.  There are many types, and the best one depends on the problem:\n",
      "    *   **Supervised Learning:** The algorithm learns from labeled data (data where the correct answer is already known).\n",
      "        *   **Examples:**\n",
      "            *   **Classification:** Predicting a category (e.g., cat vs. not cat, spam vs. not spam). Algorithms like Logistic Regression, Support Vector Machines (SVMs), and Decision Trees are used.\n",
      "            *   **Regression:** Predicting a continuous value (e.g., house price, temperature).  Algorithms like Linear Regression and Random Forests are used.\n",
      "    *   **Unsupervised Learning:** The algorithm learns from unlabeled data (data where the correct answer is not known).\n",
      "        *   **Examples:**\n",
      "            *   **Clustering:** Grouping similar data points together (e.g., customer segmentation). Algorithms like K-Means Clustering are used.\n",
      "            *   **Dimensionality Reduction:** Reducing the number of variables in the data while preserving important information (e.g., simplifying data for visualization). Algorithms like Principal Component Analysis (PCA) are used.\n",
      "    *   **Reinforcement Learning:**  The algorithm learns by trial and error, receiving rewards or penalties for its actions in an environment.\n",
      "        *   **Example:** Training an AI to play a game. The AI gets rewarded for winning and penalized for losing. Algorithms like Q-Learning and Deep Q-Networks (DQNs) are used.\n",
      "4.  **Model Training:**  Feeding the prepared data into the chosen algorithm.  The algorithm adjusts its internal parameters to learn the patterns in the data.\n",
      "    *   **Example:** The cat recognition algorithm adjusts its internal \"weights\" and \"biases\" to become better at identifying features that are characteristic of cats (e.g., pointy ears, whiskers).\n",
      "5.  **Model Evaluation:**  Testing the trained model on a separate set of data (the \"test set\") to assess its performance.  This helps to prevent *overfitting* (where the model learns the training data too well and doesn't generalize to new data).\n",
      "    *   **Metrics:**  Accuracy, precision, recall, F1-score (for classification), mean squared error (for regression).\n",
      "6.  **Parameter Tuning (Hyperparameter Optimization):**  Adjusting the settings of the algorithm (hyperparameters) to improve its performance.\n",
      "    *   **Example:** Experimenting with different learning rates or the number of layers in a neural network.\n",
      "7.  **Deployment:**  Putting the trained model into use in a real-world application.\n",
      "    *   **Example:** Integrating the cat recognition model into a camera app to automatically identify cats in photos.\n",
      "8.  **Monitoring and Maintenance:**  Continuously monitoring the model's performance and retraining it with new data to ensure it remains accurate and effective over time. The real world changes, so the model needs to adapt!\n",
      "\n",
      "**Deep Learning: A Powerful Subset of Machine Learning**\n",
      "\n",
      "Deep Learning is a specific type of machine learning that uses artificial neural networks with many layers (\"deep\" neural networks). These networks are inspired by the structure of the human brain.\n",
      "\n",
      "*   **Key Idea:**  Deep learning models can automatically learn complex features from raw data, without the need for manual feature engineering.\n",
      "*   **Examples:**\n",
      "    *   **Convolutional Neural Networks (CNNs):**  Excellent for image recognition and computer vision.\n",
      "    *   **Recurrent Neural Networks (RNNs):**  Good for processing sequential data like text and time series.\n",
      "    *   **Transformers:** A more recent architecture that has revolutionized natural language processing, powering models like BERT and GPT.\n",
      "*   **Why it's powerful:**  Deep learning has achieved state-of-the-art results in many areas, including image recognition, natural language processing, and speech recognition.\n",
      "*   **Drawbacks:**  Requires even more data and computational power than traditional machine learning.  Can be even more of a \"black box\" than other ML models.\n",
      "\n",
      "**Important Concepts to Know:**\n",
      "\n",
      "*   **Algorithms:** The specific procedures and formulas that the AI uses to learn and make decisions.  (e.g., Linear Regression, Decision Trees, Neural Networks)\n",
      "*   **Data:** The raw material that the AI learns from.  The quality and quantity of the data are crucial.\n",
      "*   **Features:** The specific characteristics of the data that the AI uses to make predictions. (e.g., pixel values in an image, words in a text)\n",
      "*   **Models:** The representation of what the AI has learned from the data. It's a mathematical function that maps inputs to outputs.\n",
      "*   **Training:** The process of teaching the AI model by showing it data and adjusting its parameters.\n",
      "*   **Inference:** The process of using the trained model to make predictions on new, unseen data.\n",
      "*   **Bias:**  Systematic errors in the model's predictions, often due to biases in the training data.\n",
      "*   **Overfitting:** When a model learns the training data too well and doesn't generalize to new data.\n",
      "*   **Underfitting:** When a model is too simple to capture the underlying patterns in the data.\n",
      "*   **Explainability:** The degree to which humans can understand why an AI model makes a particular decision.  A major research area, especially for high-stakes applications.\n",
      "\n",
      "**A Simplified Analogy:**\n",
      "\n",
      "Imagine teaching a child to recognize apples.\n",
      "\n",
      "*   **Symbolic AI:** You explicitly tell the child: \"If it's round, red or green, and has a stem, then it's an apple.\" This works until they see a green pear.\n",
      "*   **Machine Learning:** You show the child hundreds of pictures of apples (and other fruits). The child's brain (the algorithm) starts to recognize patterns and features that are common to apples. Eventually, the child can identify apples even when they are slightly different (e.g., different shapes, colors).  Deep learning would be like the child learning to recognize apples based on very complex visual features they discovered themselves.\n",
      "\n",
      "**The Future of AI:**\n",
      "\n",
      "AI is rapidly evolving.  Current trends include:\n",
      "\n",
      "*   **More Powerful Models:**  Larger and more complex models with greater capabilities.\n",
      "*   **More Data:**  The availability of vast amounts of data is fueling AI progress.\n",
      "*   **Explainable AI (XAI):**  Efforts to make AI models more transparent and understandable.\n",
      "*   **Edge AI:**  Running AI models on devices (e.g., smartphones, cameras) rather than in the cloud.\n",
      "*   **Generative AI:** AI models that can generate new content, such as text, images, and music. (e.g. DALL-E, GPT-3, Stable Diffusion)\n",
      "*   **Responsible AI:**  Focus on developing AI systems that are fair, ethical, and safe.\n",
      "\n",
      "In summary, AI works by enabling machines to learn from data, reason about information, and solve problems in a way that mimics human intelligence. Machine learning, especially deep learning, is the driving force behind many of the recent advances in AI. Understanding the core concepts and different approaches is essential for navigating the rapidly evolving world of AI.\n",
      "\n"
     ]
    }
   ],
   "source": [
    "client = genai.Client(api_key=os.environ['GEMINI_API_KEY'])\n",
    "\n",
    "response = client.models.generate_content(\n",
    "    model=\"gemini-2.0-flash\",\n",
    "    contents=f\"\",\n",
    ")\n",
    "\n",
    "print(response.text)"
   ]
  },
  {
   "cell_type": "code",
   "execution_count": 9,
   "metadata": {},
   "outputs": [
    {
     "name": "stdout",
     "output_type": "stream",
     "text": [
      " fsdfsd \n"
     ]
    }
   ],
   "source": [
    "\n",
    "a = 'fsdfsd'\n",
    "asd = f\"\"\" {a} \"\"\"\n",
    "print(asd)"
   ]
  },
  {
   "cell_type": "code",
   "execution_count": null,
   "metadata": {},
   "outputs": [],
   "source": []
  }
 ],
 "metadata": {
  "kernelspec": {
   "display_name": "sae__extract",
   "language": "python",
   "name": "python3"
  },
  "language_info": {
   "codemirror_mode": {
    "name": "ipython",
    "version": 3
   },
   "file_extension": ".py",
   "mimetype": "text/x-python",
   "name": "python",
   "nbconvert_exporter": "python",
   "pygments_lexer": "ipython3",
   "version": "3.11.10"
  }
 },
 "nbformat": 4,
 "nbformat_minor": 2
}
